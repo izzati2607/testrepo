{
  "metadata": {
    "kernelspec": {
      "name": "python",
      "display_name": "Pyolite",
      "language": "python"
    },
    "language_info": {
      "codemirror_mode": {
        "name": "python",
        "version": 3
      },
      "file_extension": ".py",
      "mimetype": "text/x-python",
      "name": "python",
      "nbconvert_exporter": "python",
      "pygments_lexer": "ipython3",
      "version": "3.8"
    }
  },
  "nbformat_minor": 4,
  "nbformat": 4,
  "cells": [
    {
      "cell_type": "markdown",
      "source": "<center>\n    <img src=\"https://cf-courses-data.s3.us.cloud-object-storage.appdomain.cloud/IBMDeveloperSkillsNetwork-DS0105EN-SkillsNetwork/labs/Module2/images/SN_web_lightmode.png\" width=\"300\" alt=\"cognitiveclass.ai logo\"  />\n</center>\n",
      "metadata": {}
    },
    {
      "cell_type": "markdown",
      "source": "#### Add your code below following the instructions given in the course\n",
      "metadata": {}
    },
    {
      "cell_type": "markdown",
      "source": "# My Jupyter Notebook on IBM Watson Studio",
      "metadata": {}
    },
    {
      "cell_type": "markdown",
      "source": "**Nurul Izzati Mohammad**\n\nData Scientist",
      "metadata": {}
    },
    {
      "cell_type": "markdown",
      "source": "*I am interested in data science because the world is generating data at a higher rate, which requires mixture of multidisciplinary skills. Data Scientist is the sexiest job of the 21st century*",
      "metadata": {}
    },
    {
      "cell_type": "markdown",
      "source": "### simple calculation code as below:",
      "metadata": {}
    },
    {
      "cell_type": "code",
      "source": "2+3",
      "metadata": {
        "trusted": true
      },
      "execution_count": 9,
      "outputs": [
        {
          "execution_count": 9,
          "output_type": "execute_result",
          "data": {
            "text/plain": "5"
          },
          "metadata": {}
        }
      ]
    },
    {
      "cell_type": "markdown",
      "source": "| Name | Ali | Abu |\n| ------ | ------ | ------ |\n| Salary | USD 45 k | USD 132 k |",
      "metadata": {}
    }
  ]
}